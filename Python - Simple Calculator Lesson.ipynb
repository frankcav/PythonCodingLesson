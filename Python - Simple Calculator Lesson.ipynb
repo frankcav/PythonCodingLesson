{
 "cells": [
  {
   "cell_type": "markdown",
   "metadata": {},
   "source": [
    "# Making a Simple Calulator in Python"
   ]
  },
  {
   "cell_type": "markdown",
   "metadata": {},
   "source": [
    "Python is a simple, easy to learn programming language that is extremely popular today. It is used in numerous fields, including statistical modelling and analyzing, web and software development, neural networking and AI, and even game development. Google, YouTube, Spotify, Dropbox, Quora, Instagram, Reddit, and numerous other sites and softwares run on Python."
   ]
  },
  {
   "cell_type": "markdown",
   "metadata": {},
   "source": [
    "Today, I'm going to go over some basic principles of Python and coding as a whole."
   ]
  },
  {
   "cell_type": "markdown",
   "metadata": {},
   "source": [
    "Now, I'm sure that many of you have had some coding experience in the past. If what I'm saying isn't exactly the same as how you learned, bear with me because there are lots of ways to teach coding, but overall the ideas are the same."
   ]
  },
  {
   "cell_type": "markdown",
   "metadata": {},
   "source": [
    "There are a few basic, universal parts of coding:"
   ]
  },
  {
   "cell_type": "markdown",
   "metadata": {},
   "source": [
    "Variables: \"keywords\" that store data. There are many different types of variables. The most common are ints, or integers, floats, or other rational numbers, and strings, or words and letters."
   ]
  },
  {
   "cell_type": "markdown",
   "metadata": {},
   "source": [
    "Methods: Instead of one long, ongoing program, code is usually split into sections, called methods. Lines of code that have the same use are grouped together under a method name or keyword. The method can be referenced in the code. Only one line of code can be used to display a method, as opposed to the numerous lines of code that may exist within the method."
   ]
  },
  {
   "cell_type": "markdown",
   "metadata": {},
   "source": [
    "References: Oftentimes, when working on a complex project, there are resources available to help a programmer. Things that have already been created. Python has plenty of these, and very easy ways to obtain them. Called packages, they basically give coders access to tons of code which, if they wanted to write themselves, could be very time consuming."
   ]
  },
  {
   "cell_type": "markdown",
   "metadata": {},
   "source": [
    "Logic: Logic is very common in code. There are many different types, but the most common and basic are if statements, for loops, and while loops. Logic helps the code to flow."
   ]
  },
  {
   "cell_type": "markdown",
   "metadata": {},
   "source": [
    "Let's begin with a basic program, and then we'll work our way up to the calculator. The program below features just one line of code. If you click into the box and hit shift+enter, the code will run."
   ]
  },
  {
   "cell_type": "code",
   "execution_count": null,
   "metadata": {},
   "outputs": [],
   "source": [
    "print(\"Hello World\")"
   ]
  },
  {
   "cell_type": "markdown",
   "metadata": {},
   "source": [
    "Basically, what this code is doing is it is printing a string into the command window. There is no command window within this notebook, but you should still see the words Hello World underneath the box. That is basically where the command window is. The quotes around \"Hello World\" make it a string. The python function \"print()\" prints a string to the command window. Try changing the spelling of the word print, to make it now glow green anymore. Did it come up with an error? That's because only the word \"print\" calls the function."
   ]
  },
  {
   "cell_type": "markdown",
   "metadata": {},
   "source": [
    "We can use a variable inside of the print function instead."
   ]
  },
  {
   "cell_type": "code",
   "execution_count": null,
   "metadata": {},
   "outputs": [],
   "source": [
    "myVariable = \"Hello World\"\n",
    "print(myVariable)"
   ]
  },
  {
   "cell_type": "markdown",
   "metadata": {},
   "source": [
    "See, in this code, we are storing the words \"Hello World\" within the variable \"myVariable.\" Then, when the print function is called, it looks to the myVariable and to it's value, which is \"Hello World.\""
   ]
  },
  {
   "cell_type": "markdown",
   "metadata": {},
   "source": [
    "In this next section of code, we can see how two strings can be put together."
   ]
  },
  {
   "cell_type": "code",
   "execution_count": null,
   "metadata": {},
   "outputs": [],
   "source": [
    "varHello = \"Hello \"\n",
    "varWorld = \"World!\"\n",
    "print(varHello + varWorld)"
   ]
  },
  {
   "cell_type": "markdown",
   "metadata": {},
   "source": [
    "When using the \"+\" addition operator with strings, the two strings are put right next to each other. That's why I put a space after Hello in varHello. Otherwise:"
   ]
  },
  {
   "cell_type": "code",
   "execution_count": null,
   "metadata": {},
   "outputs": [],
   "source": [
    "varHello = \"Hello\"\n",
    "varWorld = \"World!\"\n",
    "print(varHello + varWorld)"
   ]
  },
  {
   "cell_type": "markdown",
   "metadata": {},
   "source": [
    "Now, let's start thinking about our calculator. We need input for a calculator! The user has to be able to do calculations. Python already has a function called input() which allows the user to input text into the command window."
   ]
  },
  {
   "cell_type": "code",
   "execution_count": null,
   "metadata": {},
   "outputs": [],
   "source": [
    "print(input(\"Write input here: \"))"
   ]
  },
  {
   "cell_type": "markdown",
   "metadata": {},
   "source": [
    "The parameter of input, or the string that we wrote within the parentheses, is just text that is displayed before the input field. We can set input to a variable as well:"
   ]
  },
  {
   "cell_type": "code",
   "execution_count": null,
   "metadata": {},
   "outputs": [],
   "source": [
    "varWord = input(\"Write a word... \")\n",
    "print(varWord)"
   ]
  },
  {
   "cell_type": "markdown",
   "metadata": {},
   "source": [
    "This will be important for our calculator. Why don't we try a simple addition problem?"
   ]
  },
  {
   "cell_type": "code",
   "execution_count": null,
   "metadata": {},
   "outputs": [],
   "source": [
    "num1 = input(\"Input the first number: \")\n",
    "num2 = input(\"Input the second number: \")\n",
    "print(num1 + num2)"
   ]
  },
  {
   "cell_type": "markdown",
   "metadata": {},
   "source": [
    "That's not right! Remember, the print function displays a string, so adding is like adding letters together. We need a line of code that actually adds the numbers together. For this, we need the numbers to become floats to make them be able to add together, since strings can't be added. The \"float()\" function turns a string into a float, and the \"str()\" or string function turns a float back to a string."
   ]
  },
  {
   "cell_type": "code",
   "execution_count": null,
   "metadata": {},
   "outputs": [],
   "source": [
    "num1 = input(\"Input the first number: \")\n",
    "num2 = input(\"Input the second number: \")\n",
    "numSum = float(num1) + float(num2)\n",
    "print(str(numSum))"
   ]
  },
  {
   "cell_type": "markdown",
   "metadata": {},
   "source": [
    "That's working a bit better!"
   ]
  },
  {
   "cell_type": "markdown",
   "metadata": {},
   "source": [
    "Of course, a calculator should be able to do more than just addition. Let's add subtraction, too."
   ]
  },
  {
   "cell_type": "code",
   "execution_count": null,
   "metadata": {},
   "outputs": [],
   "source": [
    "num1 = input(\"Input the first number: \")\n",
    "num2 = input(\"Input the second number: \")\n",
    "op = input(\"Input + or -: \")\n",
    "if(op == \"+\"):\n",
    "    num3 = float(num1) + float(num2)\n",
    "    print(str(num3))\n",
    "elif(op == \"-\"):\n",
    "    num3 = float(num1) - float(num2)\n",
    "    print(str(num3))"
   ]
  },
  {
   "cell_type": "markdown",
   "metadata": {},
   "source": [
    "That's even better. There are some new ideas within this section of code. First, there's logic. \"If\" and \"elif,\" which stands for \"else if.\" If we look at the fourth line, it says \"if(op == \"+\").\" Let's break it down."
   ]
  },
  {
   "cell_type": "markdown",
   "metadata": {},
   "source": [
    "\"If\" is saying that if the condition in the parentheses is true, then the code that is indented underneath it will be executed."
   ]
  },
  {
   "cell_type": "markdown",
   "metadata": {},
   "source": [
    "In the parentheses, if the variable \"op,\" or the operation that was inputted, is equal to the plus sign, +, the statement will return true. The reason why there are two equal signs is because \"==\" is a comparitive operator. One = means that a variable is being set. Two == means that the variables on either side are being compared for veracity."
   ]
  },
  {
   "cell_type": "markdown",
   "metadata": {},
   "source": [
    "Finally, the colon at the end is signifying the end of the if statement and the beginning of the code for if the statement is true."
   ]
  },
  {
   "cell_type": "code",
   "execution_count": null,
   "metadata": {},
   "outputs": [],
   "source": [
    "num1 = input(\"Input the first number: \")\n",
    "num2 = input(\"Input the second number: \")\n",
    "op = input(\"Input + or -: \")\n",
    "if(op == \"+\"):\n",
    "    num3 = float(num1) + float(num2)\n",
    "elif(op == \"-\"):\n",
    "    num3 = float(num1) - float(num2)\n",
    "print(str(num3))"
   ]
  },
  {
   "cell_type": "markdown",
   "metadata": {},
   "source": [
    "We can even shorten the code by taking the print statement to the end, as seen above."
   ]
  },
  {
   "cell_type": "markdown",
   "metadata": {},
   "source": [
    "Finally, if we want to add multiplication and division, we could do it easily."
   ]
  },
  {
   "cell_type": "code",
   "execution_count": null,
   "metadata": {},
   "outputs": [],
   "source": [
    "num1 = input(\"Input the first number: \")\n",
    "num2 = input(\"Input the second number: \")\n",
    "op = input(\"Input +,-,*, or /: \")\n",
    "if(op == \"+\"):\n",
    "    num3 = float(num1) + float(num2)\n",
    "elif(op == \"-\"):\n",
    "    num3 = float(num1) - float(num2)\n",
    "elif(op == \"*\"):\n",
    "    num3 = float(num1) * float(num2)\n",
    "elif(op == \"/\"):\n",
    "    num3 = float(num1) / float(num2)\n",
    "print(str(num3))"
   ]
  },
  {
   "cell_type": "markdown",
   "metadata": {},
   "source": [
    "And that, at a very, very basic level, is a calculator. Of course, this doesn't have too much function, but it's made from scratch!"
   ]
  }
 ],
 "metadata": {
  "kernelspec": {
   "display_name": "Python 3",
   "language": "python",
   "name": "python3"
  },
  "language_info": {
   "codemirror_mode": {
    "name": "ipython",
    "version": 3
   },
   "file_extension": ".py",
   "mimetype": "text/x-python",
   "name": "python",
   "nbconvert_exporter": "python",
   "pygments_lexer": "ipython3",
   "version": "3.7.6"
  }
 },
 "nbformat": 4,
 "nbformat_minor": 4
}
