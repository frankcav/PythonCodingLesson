{
 "cells": [
  {
   "cell_type": "markdown",
   "metadata": {},
   "source": [
    "# Making a Simple Calulator in Python"
   ]
  },
  {
   "cell_type": "markdown",
   "metadata": {},
   "source": [
    "Python is a simple, easy to learn programming language that is extremely popular today. It is used in numerous fields, including statistical modelling and analyzing, web and software development, neural networking and AI, and even game development. Google, YouTube, Spotify, Dropbox, Quora, Instagram, Reddit, and numerous other sites and softwares run on Python."
   ]
  },
  {
   "cell_type": "markdown",
   "metadata": {},
   "source": [
    "Today, I'm going to go over some basic principles of Python and coding as a whole."
   ]
  },
  {
   "cell_type": "markdown",
   "metadata": {},
   "source": [
    "Now, I'm sure that many of you have had some coding experience in the past. If what I'm saying isn't exactly the same as how you learned, bear with me because there are lots of ways to teach coding, but overall the ideas are the same."
   ]
  },
  {
   "cell_type": "markdown",
   "metadata": {},
   "source": [
    "There are a few basic, universal parts of coding:"
   ]
  },
  {
   "cell_type": "markdown",
   "metadata": {},
   "source": [
    "Variables: \"keywords\" that store data. There are many different types of variables. The most common are ints, or integers, floats, or other rational numbers, and strings, or words and letters."
   ]
  },
  {
   "cell_type": "markdown",
   "metadata": {},
   "source": [
    "Methods: Instead of one long, ongoing program, code is usually split into sections, called methods. Lines of code that have the same use are grouped together under a method name or keyword. The method can be referenced in the code. Only one line of code can be used to display a method, as opposed to the numerous lines of code that may exist within the method."
   ]
  },
  {
   "cell_type": "markdown",
   "metadata": {},
   "source": [
    "References: Oftentimes, when working on a complex project, there are resources available to help a programmer. Things that have already been created. Python has plenty of these, and very easy ways to obtain them. Called packages, they basically give coders access to tons of code which, if they wanted to write themselves, could be very time consuming."
   ]
  },
  {
   "cell_type": "markdown",
   "metadata": {},
   "source": [
    "Logic: Logic is very common in code. There are many different types, but the most common and basic are if statements, for loops, and while loops. Logic helps the code to flow."
   ]
  },
  {
   "cell_type": "markdown",
   "metadata": {},
   "source": [
    "Let's begin with a basic program, and then we'll work our way up to the calculator. The program below features just one line of code. If you click into the box and hit shift+enter, the code will run."
   ]
  },
  {
   "cell_type": "code",
   "execution_count": 5,
   "metadata": {},
   "outputs": [
    {
     "ename": "NameError",
     "evalue": "name 'prit' is not defined",
     "output_type": "error",
     "traceback": [
      "\u001b[1;31m---------------------------------------------------------------------------\u001b[0m",
      "\u001b[1;31mNameError\u001b[0m                                 Traceback (most recent call last)",
      "\u001b[1;32m<ipython-input-5-208974283ad5>\u001b[0m in \u001b[0;36m<module>\u001b[1;34m\u001b[0m\n\u001b[1;32m----> 1\u001b[1;33m \u001b[0mprit\u001b[0m\u001b[1;33m(\u001b[0m\u001b[1;34m\"Hello World\"\u001b[0m\u001b[1;33m)\u001b[0m\u001b[1;33m\u001b[0m\u001b[1;33m\u001b[0m\u001b[0m\n\u001b[0m",
      "\u001b[1;31mNameError\u001b[0m: name 'prit' is not defined"
     ]
    }
   ],
   "source": [
    "print(\"Hello World\")"
   ]
  },
  {
   "cell_type": "markdown",
   "metadata": {},
   "source": [
    "Basically, what this code is doing is it is printing a string into the command window. There is no command window within this notebook, but you should still see the words Hello World underneath the box. That is basically where the command window is. The quotes around \"Hello World\" make it a string. The python function \"print()\" prints a string to the command window. Try changing the spelling of the word print, to make it now glow green anymore. Did it come up with an error? That's because only the word \"print\" calls the function."
   ]
  },
  {
   "cell_type": "markdown",
   "metadata": {},
   "source": [
    "We can use a variable inside of the print function instead."
   ]
  },
  {
   "cell_type": "code",
   "execution_count": 7,
   "metadata": {},
   "outputs": [
    {
     "name": "stdout",
     "output_type": "stream",
     "text": [
      "Hello World\n"
     ]
    }
   ],
   "source": [
    "myVariable = \"Hello World\"\n",
    "print(myVariable)"
   ]
  },
  {
   "cell_type": "markdown",
   "metadata": {},
   "source": [
    "See, in this code, we are storing the words \"Hello World\" within the variable \"myVariable.\" Then, when the print function is called, it looks to the myVariable and to it's value, which is \"Hello World.\""
   ]
  },
  {
   "cell_type": "markdown",
   "metadata": {},
   "source": [
    "In this next section of code, we can see how two strings can be put together."
   ]
  },
  {
   "cell_type": "code",
   "execution_count": 8,
   "metadata": {},
   "outputs": [
    {
     "name": "stdout",
     "output_type": "stream",
     "text": [
      "Hello World!\n"
     ]
    }
   ],
   "source": [
    "varHello = \"Hello \"\n",
    "varWorld = \"World!\"\n",
    "print(varHello + varWorld)"
   ]
  },
  {
   "cell_type": "markdown",
   "metadata": {},
   "source": [
    "When using the \"+\" addition operator with strings, the two strings are put right next to each other. That's why I put a space after Hello in varHello. Otherwise:"
   ]
  },
  {
   "cell_type": "code",
   "execution_count": 9,
   "metadata": {},
   "outputs": [
    {
     "name": "stdout",
     "output_type": "stream",
     "text": [
      "HelloWorld!\n"
     ]
    }
   ],
   "source": [
    "varHello = \"Hello\"\n",
    "varWorld = \"World!\"\n",
    "print(varHello + varWorld)"
   ]
  },
  {
   "cell_type": "markdown",
   "metadata": {},
   "source": []
  }
 ],
 "metadata": {
  "kernelspec": {
   "display_name": "Python 3",
   "language": "python",
   "name": "python3"
  },
  "language_info": {
   "codemirror_mode": {
    "name": "ipython",
    "version": 3
   },
   "file_extension": ".py",
   "mimetype": "text/x-python",
   "name": "python",
   "nbconvert_exporter": "python",
   "pygments_lexer": "ipython3",
   "version": "3.7.6"
  }
 },
 "nbformat": 4,
 "nbformat_minor": 4
}
